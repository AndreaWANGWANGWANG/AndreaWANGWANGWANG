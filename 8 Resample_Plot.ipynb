{
 "cells": [
  {
   "cell_type": "markdown",
   "metadata": {},
   "source": [
    "# Lec10 In/Out Class Assignment"
   ]
  },
  {
   "cell_type": "markdown",
   "metadata": {},
   "source": [
    "Use your quandl account to down load the historical price series for \n",
    "    \n",
    "    AMZN\n",
    "    XOM\n",
    "\n",
    "You should retrieve at least 2 years worth of daily [open, high, low, close, adj_close] series for each of these stocks."
   ]
  },
  {
   "cell_type": "code",
   "execution_count": 1,
   "metadata": {},
   "outputs": [
    {
     "name": "stdout",
     "output_type": "stream",
     "text": [
      "[*********************100%***********************]  2 of 2 completed\n"
     ]
    },
    {
     "data": {
      "text/html": [
       "<div>\n",
       "<style scoped>\n",
       "    .dataframe tbody tr th:only-of-type {\n",
       "        vertical-align: middle;\n",
       "    }\n",
       "\n",
       "    .dataframe tbody tr th {\n",
       "        vertical-align: top;\n",
       "    }\n",
       "\n",
       "    .dataframe thead tr th {\n",
       "        text-align: left;\n",
       "    }\n",
       "\n",
       "    .dataframe thead tr:last-of-type th {\n",
       "        text-align: right;\n",
       "    }\n",
       "</style>\n",
       "<table border=\"1\" class=\"dataframe\">\n",
       "  <thead>\n",
       "    <tr>\n",
       "      <th></th>\n",
       "      <th colspan=\"2\" halign=\"left\">Adj Close</th>\n",
       "      <th colspan=\"2\" halign=\"left\">Close</th>\n",
       "      <th colspan=\"2\" halign=\"left\">High</th>\n",
       "      <th colspan=\"2\" halign=\"left\">Low</th>\n",
       "      <th colspan=\"2\" halign=\"left\">Open</th>\n",
       "    </tr>\n",
       "    <tr>\n",
       "      <th></th>\n",
       "      <th>AMZN</th>\n",
       "      <th>XOM</th>\n",
       "      <th>AMZN</th>\n",
       "      <th>XOM</th>\n",
       "      <th>AMZN</th>\n",
       "      <th>XOM</th>\n",
       "      <th>AMZN</th>\n",
       "      <th>XOM</th>\n",
       "      <th>AMZN</th>\n",
       "      <th>XOM</th>\n",
       "    </tr>\n",
       "    <tr>\n",
       "      <th>Date</th>\n",
       "      <th></th>\n",
       "      <th></th>\n",
       "      <th></th>\n",
       "      <th></th>\n",
       "      <th></th>\n",
       "      <th></th>\n",
       "      <th></th>\n",
       "      <th></th>\n",
       "      <th></th>\n",
       "      <th></th>\n",
       "    </tr>\n",
       "  </thead>\n",
       "  <tbody>\n",
       "    <tr>\n",
       "      <td>2017-04-03</td>\n",
       "      <td>891.510010</td>\n",
       "      <td>72.072403</td>\n",
       "      <td>891.510010</td>\n",
       "      <td>82.070000</td>\n",
       "      <td>893.489990</td>\n",
       "      <td>82.309998</td>\n",
       "      <td>885.419983</td>\n",
       "      <td>81.349998</td>\n",
       "      <td>888.000000</td>\n",
       "      <td>82.019997</td>\n",
       "    </tr>\n",
       "    <tr>\n",
       "      <td>2017-04-04</td>\n",
       "      <td>906.830017</td>\n",
       "      <td>72.335861</td>\n",
       "      <td>906.830017</td>\n",
       "      <td>82.370003</td>\n",
       "      <td>908.539978</td>\n",
       "      <td>82.419998</td>\n",
       "      <td>890.280029</td>\n",
       "      <td>81.330002</td>\n",
       "      <td>891.500000</td>\n",
       "      <td>82.099998</td>\n",
       "    </tr>\n",
       "    <tr>\n",
       "      <td>2017-04-05</td>\n",
       "      <td>909.280029</td>\n",
       "      <td>72.476379</td>\n",
       "      <td>909.280029</td>\n",
       "      <td>82.529999</td>\n",
       "      <td>923.719971</td>\n",
       "      <td>83.550003</td>\n",
       "      <td>905.619995</td>\n",
       "      <td>82.470001</td>\n",
       "      <td>910.820007</td>\n",
       "      <td>82.849998</td>\n",
       "    </tr>\n",
       "    <tr>\n",
       "      <td>2017-04-06</td>\n",
       "      <td>898.280029</td>\n",
       "      <td>72.897896</td>\n",
       "      <td>898.280029</td>\n",
       "      <td>83.010002</td>\n",
       "      <td>917.190002</td>\n",
       "      <td>83.209999</td>\n",
       "      <td>894.489990</td>\n",
       "      <td>82.459999</td>\n",
       "      <td>913.799988</td>\n",
       "      <td>82.750000</td>\n",
       "    </tr>\n",
       "    <tr>\n",
       "      <td>2017-04-07</td>\n",
       "      <td>894.880005</td>\n",
       "      <td>72.678352</td>\n",
       "      <td>894.880005</td>\n",
       "      <td>82.760002</td>\n",
       "      <td>900.090027</td>\n",
       "      <td>83.360001</td>\n",
       "      <td>889.309998</td>\n",
       "      <td>82.680000</td>\n",
       "      <td>899.650024</td>\n",
       "      <td>83.239998</td>\n",
       "    </tr>\n",
       "  </tbody>\n",
       "</table>\n",
       "</div>"
      ],
      "text/plain": [
       "             Adj Close                  Close                   High  \\\n",
       "                  AMZN        XOM        AMZN        XOM        AMZN   \n",
       "Date                                                                   \n",
       "2017-04-03  891.510010  72.072403  891.510010  82.070000  893.489990   \n",
       "2017-04-04  906.830017  72.335861  906.830017  82.370003  908.539978   \n",
       "2017-04-05  909.280029  72.476379  909.280029  82.529999  923.719971   \n",
       "2017-04-06  898.280029  72.897896  898.280029  83.010002  917.190002   \n",
       "2017-04-07  894.880005  72.678352  894.880005  82.760002  900.090027   \n",
       "\n",
       "                              Low                   Open             \n",
       "                  XOM        AMZN        XOM        AMZN        XOM  \n",
       "Date                                                                 \n",
       "2017-04-03  82.309998  885.419983  81.349998  888.000000  82.019997  \n",
       "2017-04-04  82.419998  890.280029  81.330002  891.500000  82.099998  \n",
       "2017-04-05  83.550003  905.619995  82.470001  910.820007  82.849998  \n",
       "2017-04-06  83.209999  894.489990  82.459999  913.799988  82.750000  \n",
       "2017-04-07  83.360001  889.309998  82.680000  899.650024  83.239998  "
      ]
     },
     "execution_count": 1,
     "metadata": {},
     "output_type": "execute_result"
    }
   ],
   "source": [
    "import yfinance as yf\n",
    "data = yf.download(\"AMZN XOM\", start=\"2017-04-01\", end=\"2019-04-01\");\n",
    "data=data.drop('Volume',axis=1)\n",
    "data.head()"
   ]
  },
  {
   "cell_type": "markdown",
   "metadata": {},
   "source": [
    "### Part I"
   ]
  },
  {
   "cell_type": "markdown",
   "metadata": {},
   "source": [
    "Resample your time series in monthly frequency to get the corresponding **monthly** [open, high, low, close, adj_close] time series (you would need to resample with **different resample functions** based on if it's open, high, low, or close time series)"
   ]
  },
  {
   "cell_type": "code",
   "execution_count": 2,
   "metadata": {
    "scrolled": true
   },
   "outputs": [
    {
     "data": {
      "text/html": [
       "<div>\n",
       "<style scoped>\n",
       "    .dataframe tbody tr th:only-of-type {\n",
       "        vertical-align: middle;\n",
       "    }\n",
       "\n",
       "    .dataframe tbody tr th {\n",
       "        vertical-align: top;\n",
       "    }\n",
       "\n",
       "    .dataframe thead th {\n",
       "        text-align: right;\n",
       "    }\n",
       "</style>\n",
       "<table border=\"1\" class=\"dataframe\">\n",
       "  <thead>\n",
       "    <tr style=\"text-align: right;\">\n",
       "      <th></th>\n",
       "      <th>AMZN</th>\n",
       "      <th>XOM</th>\n",
       "    </tr>\n",
       "    <tr>\n",
       "      <th>Date</th>\n",
       "      <th></th>\n",
       "      <th></th>\n",
       "    </tr>\n",
       "  </thead>\n",
       "  <tbody>\n",
       "    <tr>\n",
       "      <td>2017-04-30</td>\n",
       "      <td>924.989990</td>\n",
       "      <td>71.703560</td>\n",
       "    </tr>\n",
       "    <tr>\n",
       "      <td>2017-05-31</td>\n",
       "      <td>994.619995</td>\n",
       "      <td>71.361229</td>\n",
       "    </tr>\n",
       "    <tr>\n",
       "      <td>2017-06-30</td>\n",
       "      <td>968.000000</td>\n",
       "      <td>71.565117</td>\n",
       "    </tr>\n",
       "    <tr>\n",
       "      <td>2017-07-31</td>\n",
       "      <td>987.780029</td>\n",
       "      <td>70.953453</td>\n",
       "    </tr>\n",
       "    <tr>\n",
       "      <td>2017-08-31</td>\n",
       "      <td>980.599976</td>\n",
       "      <td>68.320496</td>\n",
       "    </tr>\n",
       "    <tr>\n",
       "      <td>2017-09-30</td>\n",
       "      <td>961.349976</td>\n",
       "      <td>73.377625</td>\n",
       "    </tr>\n",
       "    <tr>\n",
       "      <td>2017-10-31</td>\n",
       "      <td>1105.280029</td>\n",
       "      <td>74.603867</td>\n",
       "    </tr>\n",
       "    <tr>\n",
       "      <td>2017-11-30</td>\n",
       "      <td>1176.750000</td>\n",
       "      <td>75.240105</td>\n",
       "    </tr>\n",
       "    <tr>\n",
       "      <td>2017-12-31</td>\n",
       "      <td>1169.469971</td>\n",
       "      <td>75.556274</td>\n",
       "    </tr>\n",
       "    <tr>\n",
       "      <td>2018-01-31</td>\n",
       "      <td>1450.890015</td>\n",
       "      <td>78.862549</td>\n",
       "    </tr>\n",
       "    <tr>\n",
       "      <td>2018-02-28</td>\n",
       "      <td>1512.449951</td>\n",
       "      <td>69.119453</td>\n",
       "    </tr>\n",
       "    <tr>\n",
       "      <td>2018-03-31</td>\n",
       "      <td>1447.339966</td>\n",
       "      <td>68.088219</td>\n",
       "    </tr>\n",
       "    <tr>\n",
       "      <td>2018-04-30</td>\n",
       "      <td>1566.130005</td>\n",
       "      <td>70.953751</td>\n",
       "    </tr>\n",
       "    <tr>\n",
       "      <td>2018-05-31</td>\n",
       "      <td>1629.619995</td>\n",
       "      <td>74.890144</td>\n",
       "    </tr>\n",
       "    <tr>\n",
       "      <td>2018-06-30</td>\n",
       "      <td>1699.800049</td>\n",
       "      <td>76.263695</td>\n",
       "    </tr>\n",
       "    <tr>\n",
       "      <td>2018-07-31</td>\n",
       "      <td>1777.439941</td>\n",
       "      <td>75.139053</td>\n",
       "    </tr>\n",
       "    <tr>\n",
       "      <td>2018-08-31</td>\n",
       "      <td>2012.709961</td>\n",
       "      <td>74.666069</td>\n",
       "    </tr>\n",
       "    <tr>\n",
       "      <td>2018-09-30</td>\n",
       "      <td>2003.000000</td>\n",
       "      <td>79.183090</td>\n",
       "    </tr>\n",
       "    <tr>\n",
       "      <td>2018-10-31</td>\n",
       "      <td>1598.010010</td>\n",
       "      <td>74.209702</td>\n",
       "    </tr>\n",
       "    <tr>\n",
       "      <td>2018-11-30</td>\n",
       "      <td>1690.170044</td>\n",
       "      <td>74.792641</td>\n",
       "    </tr>\n",
       "    <tr>\n",
       "      <td>2018-12-31</td>\n",
       "      <td>1501.969971</td>\n",
       "      <td>64.152336</td>\n",
       "    </tr>\n",
       "    <tr>\n",
       "      <td>2019-01-31</td>\n",
       "      <td>1718.729980</td>\n",
       "      <td>68.940933</td>\n",
       "    </tr>\n",
       "    <tr>\n",
       "      <td>2019-02-28</td>\n",
       "      <td>1639.829956</td>\n",
       "      <td>75.175919</td>\n",
       "    </tr>\n",
       "    <tr>\n",
       "      <td>2019-03-31</td>\n",
       "      <td>1780.750000</td>\n",
       "      <td>76.859604</td>\n",
       "    </tr>\n",
       "  </tbody>\n",
       "</table>\n",
       "</div>"
      ],
      "text/plain": [
       "                   AMZN        XOM\n",
       "Date                              \n",
       "2017-04-30   924.989990  71.703560\n",
       "2017-05-31   994.619995  71.361229\n",
       "2017-06-30   968.000000  71.565117\n",
       "2017-07-31   987.780029  70.953453\n",
       "2017-08-31   980.599976  68.320496\n",
       "2017-09-30   961.349976  73.377625\n",
       "2017-10-31  1105.280029  74.603867\n",
       "2017-11-30  1176.750000  75.240105\n",
       "2017-12-31  1169.469971  75.556274\n",
       "2018-01-31  1450.890015  78.862549\n",
       "2018-02-28  1512.449951  69.119453\n",
       "2018-03-31  1447.339966  68.088219\n",
       "2018-04-30  1566.130005  70.953751\n",
       "2018-05-31  1629.619995  74.890144\n",
       "2018-06-30  1699.800049  76.263695\n",
       "2018-07-31  1777.439941  75.139053\n",
       "2018-08-31  2012.709961  74.666069\n",
       "2018-09-30  2003.000000  79.183090\n",
       "2018-10-31  1598.010010  74.209702\n",
       "2018-11-30  1690.170044  74.792641\n",
       "2018-12-31  1501.969971  64.152336\n",
       "2019-01-31  1718.729980  68.940933\n",
       "2019-02-28  1639.829956  75.175919\n",
       "2019-03-31  1780.750000  76.859604"
      ]
     },
     "execution_count": 2,
     "metadata": {},
     "output_type": "execute_result"
    }
   ],
   "source": [
    "data['Adj Close'].resample('M').last()"
   ]
  },
  {
   "cell_type": "code",
   "execution_count": 3,
   "metadata": {
    "scrolled": true
   },
   "outputs": [
    {
     "data": {
      "text/html": [
       "<div>\n",
       "<style scoped>\n",
       "    .dataframe tbody tr th:only-of-type {\n",
       "        vertical-align: middle;\n",
       "    }\n",
       "\n",
       "    .dataframe tbody tr th {\n",
       "        vertical-align: top;\n",
       "    }\n",
       "\n",
       "    .dataframe thead th {\n",
       "        text-align: right;\n",
       "    }\n",
       "</style>\n",
       "<table border=\"1\" class=\"dataframe\">\n",
       "  <thead>\n",
       "    <tr style=\"text-align: right;\">\n",
       "      <th></th>\n",
       "      <th>AMZN</th>\n",
       "      <th>XOM</th>\n",
       "    </tr>\n",
       "    <tr>\n",
       "      <th>Date</th>\n",
       "      <th></th>\n",
       "      <th></th>\n",
       "    </tr>\n",
       "  </thead>\n",
       "  <tbody>\n",
       "    <tr>\n",
       "      <td>2017-04-30</td>\n",
       "      <td>924.989990</td>\n",
       "      <td>81.650002</td>\n",
       "    </tr>\n",
       "    <tr>\n",
       "      <td>2017-05-31</td>\n",
       "      <td>994.619995</td>\n",
       "      <td>80.500000</td>\n",
       "    </tr>\n",
       "    <tr>\n",
       "      <td>2017-06-30</td>\n",
       "      <td>968.000000</td>\n",
       "      <td>80.730003</td>\n",
       "    </tr>\n",
       "    <tr>\n",
       "      <td>2017-07-31</td>\n",
       "      <td>987.780029</td>\n",
       "      <td>80.040001</td>\n",
       "    </tr>\n",
       "    <tr>\n",
       "      <td>2017-08-31</td>\n",
       "      <td>980.599976</td>\n",
       "      <td>76.330002</td>\n",
       "    </tr>\n",
       "    <tr>\n",
       "      <td>2017-09-30</td>\n",
       "      <td>961.349976</td>\n",
       "      <td>81.980003</td>\n",
       "    </tr>\n",
       "    <tr>\n",
       "      <td>2017-10-31</td>\n",
       "      <td>1105.280029</td>\n",
       "      <td>83.349998</td>\n",
       "    </tr>\n",
       "    <tr>\n",
       "      <td>2017-11-30</td>\n",
       "      <td>1176.750000</td>\n",
       "      <td>83.290001</td>\n",
       "    </tr>\n",
       "    <tr>\n",
       "      <td>2017-12-31</td>\n",
       "      <td>1169.469971</td>\n",
       "      <td>83.639999</td>\n",
       "    </tr>\n",
       "    <tr>\n",
       "      <td>2018-01-31</td>\n",
       "      <td>1450.890015</td>\n",
       "      <td>87.300003</td>\n",
       "    </tr>\n",
       "    <tr>\n",
       "      <td>2018-02-28</td>\n",
       "      <td>1512.449951</td>\n",
       "      <td>75.739998</td>\n",
       "    </tr>\n",
       "    <tr>\n",
       "      <td>2018-03-31</td>\n",
       "      <td>1447.339966</td>\n",
       "      <td>74.610001</td>\n",
       "    </tr>\n",
       "    <tr>\n",
       "      <td>2018-04-30</td>\n",
       "      <td>1566.130005</td>\n",
       "      <td>77.750000</td>\n",
       "    </tr>\n",
       "    <tr>\n",
       "      <td>2018-05-31</td>\n",
       "      <td>1629.619995</td>\n",
       "      <td>81.239998</td>\n",
       "    </tr>\n",
       "    <tr>\n",
       "      <td>2018-06-30</td>\n",
       "      <td>1699.800049</td>\n",
       "      <td>82.730003</td>\n",
       "    </tr>\n",
       "    <tr>\n",
       "      <td>2018-07-31</td>\n",
       "      <td>1777.439941</td>\n",
       "      <td>81.510002</td>\n",
       "    </tr>\n",
       "    <tr>\n",
       "      <td>2018-08-31</td>\n",
       "      <td>2012.709961</td>\n",
       "      <td>80.169998</td>\n",
       "    </tr>\n",
       "    <tr>\n",
       "      <td>2018-09-30</td>\n",
       "      <td>2003.000000</td>\n",
       "      <td>85.019997</td>\n",
       "    </tr>\n",
       "    <tr>\n",
       "      <td>2018-10-31</td>\n",
       "      <td>1598.010010</td>\n",
       "      <td>79.680000</td>\n",
       "    </tr>\n",
       "    <tr>\n",
       "      <td>2018-11-30</td>\n",
       "      <td>1690.170044</td>\n",
       "      <td>79.500000</td>\n",
       "    </tr>\n",
       "    <tr>\n",
       "      <td>2018-12-31</td>\n",
       "      <td>1501.969971</td>\n",
       "      <td>68.190002</td>\n",
       "    </tr>\n",
       "    <tr>\n",
       "      <td>2019-01-31</td>\n",
       "      <td>1718.729980</td>\n",
       "      <td>73.279999</td>\n",
       "    </tr>\n",
       "    <tr>\n",
       "      <td>2019-02-28</td>\n",
       "      <td>1639.829956</td>\n",
       "      <td>79.029999</td>\n",
       "    </tr>\n",
       "    <tr>\n",
       "      <td>2019-03-31</td>\n",
       "      <td>1780.750000</td>\n",
       "      <td>80.800003</td>\n",
       "    </tr>\n",
       "  </tbody>\n",
       "</table>\n",
       "</div>"
      ],
      "text/plain": [
       "                   AMZN        XOM\n",
       "Date                              \n",
       "2017-04-30   924.989990  81.650002\n",
       "2017-05-31   994.619995  80.500000\n",
       "2017-06-30   968.000000  80.730003\n",
       "2017-07-31   987.780029  80.040001\n",
       "2017-08-31   980.599976  76.330002\n",
       "2017-09-30   961.349976  81.980003\n",
       "2017-10-31  1105.280029  83.349998\n",
       "2017-11-30  1176.750000  83.290001\n",
       "2017-12-31  1169.469971  83.639999\n",
       "2018-01-31  1450.890015  87.300003\n",
       "2018-02-28  1512.449951  75.739998\n",
       "2018-03-31  1447.339966  74.610001\n",
       "2018-04-30  1566.130005  77.750000\n",
       "2018-05-31  1629.619995  81.239998\n",
       "2018-06-30  1699.800049  82.730003\n",
       "2018-07-31  1777.439941  81.510002\n",
       "2018-08-31  2012.709961  80.169998\n",
       "2018-09-30  2003.000000  85.019997\n",
       "2018-10-31  1598.010010  79.680000\n",
       "2018-11-30  1690.170044  79.500000\n",
       "2018-12-31  1501.969971  68.190002\n",
       "2019-01-31  1718.729980  73.279999\n",
       "2019-02-28  1639.829956  79.029999\n",
       "2019-03-31  1780.750000  80.800003"
      ]
     },
     "execution_count": 3,
     "metadata": {},
     "output_type": "execute_result"
    }
   ],
   "source": [
    "data['Close'].resample('M').last()"
   ]
  },
  {
   "cell_type": "code",
   "execution_count": 4,
   "metadata": {},
   "outputs": [
    {
     "data": {
      "text/html": [
       "<div>\n",
       "<style scoped>\n",
       "    .dataframe tbody tr th:only-of-type {\n",
       "        vertical-align: middle;\n",
       "    }\n",
       "\n",
       "    .dataframe tbody tr th {\n",
       "        vertical-align: top;\n",
       "    }\n",
       "\n",
       "    .dataframe thead th {\n",
       "        text-align: right;\n",
       "    }\n",
       "</style>\n",
       "<table border=\"1\" class=\"dataframe\">\n",
       "  <thead>\n",
       "    <tr style=\"text-align: right;\">\n",
       "      <th></th>\n",
       "      <th>AMZN</th>\n",
       "      <th>XOM</th>\n",
       "    </tr>\n",
       "    <tr>\n",
       "      <th>Date</th>\n",
       "      <th></th>\n",
       "      <th></th>\n",
       "    </tr>\n",
       "  </thead>\n",
       "  <tbody>\n",
       "    <tr>\n",
       "      <td>2017-04-30</td>\n",
       "      <td>949.590027</td>\n",
       "      <td>83.550003</td>\n",
       "    </tr>\n",
       "    <tr>\n",
       "      <td>2017-05-31</td>\n",
       "      <td>1001.200012</td>\n",
       "      <td>83.230003</td>\n",
       "    </tr>\n",
       "    <tr>\n",
       "      <td>2017-06-30</td>\n",
       "      <td>1017.000000</td>\n",
       "      <td>83.690002</td>\n",
       "    </tr>\n",
       "    <tr>\n",
       "      <td>2017-07-31</td>\n",
       "      <td>1083.310059</td>\n",
       "      <td>82.489998</td>\n",
       "    </tr>\n",
       "    <tr>\n",
       "      <td>2017-08-31</td>\n",
       "      <td>1006.400024</td>\n",
       "      <td>80.820000</td>\n",
       "    </tr>\n",
       "    <tr>\n",
       "      <td>2017-09-30</td>\n",
       "      <td>1000.000000</td>\n",
       "      <td>82.449997</td>\n",
       "    </tr>\n",
       "    <tr>\n",
       "      <td>2017-10-31</td>\n",
       "      <td>1122.790039</td>\n",
       "      <td>84.239998</td>\n",
       "    </tr>\n",
       "    <tr>\n",
       "      <td>2017-11-30</td>\n",
       "      <td>1213.410034</td>\n",
       "      <td>84.139999</td>\n",
       "    </tr>\n",
       "    <tr>\n",
       "      <td>2017-12-31</td>\n",
       "      <td>1194.780029</td>\n",
       "      <td>84.360001</td>\n",
       "    </tr>\n",
       "    <tr>\n",
       "      <td>2018-01-31</td>\n",
       "      <td>1472.579956</td>\n",
       "      <td>89.300003</td>\n",
       "    </tr>\n",
       "  </tbody>\n",
       "</table>\n",
       "</div>"
      ],
      "text/plain": [
       "                   AMZN        XOM\n",
       "Date                              \n",
       "2017-04-30   949.590027  83.550003\n",
       "2017-05-31  1001.200012  83.230003\n",
       "2017-06-30  1017.000000  83.690002\n",
       "2017-07-31  1083.310059  82.489998\n",
       "2017-08-31  1006.400024  80.820000\n",
       "2017-09-30  1000.000000  82.449997\n",
       "2017-10-31  1122.790039  84.239998\n",
       "2017-11-30  1213.410034  84.139999\n",
       "2017-12-31  1194.780029  84.360001\n",
       "2018-01-31  1472.579956  89.300003"
      ]
     },
     "execution_count": 4,
     "metadata": {},
     "output_type": "execute_result"
    }
   ],
   "source": [
    "data['High'].resample('M').max()[:10]"
   ]
  },
  {
   "cell_type": "code",
   "execution_count": 5,
   "metadata": {},
   "outputs": [
    {
     "data": {
      "text/html": [
       "<div>\n",
       "<style scoped>\n",
       "    .dataframe tbody tr th:only-of-type {\n",
       "        vertical-align: middle;\n",
       "    }\n",
       "\n",
       "    .dataframe tbody tr th {\n",
       "        vertical-align: top;\n",
       "    }\n",
       "\n",
       "    .dataframe thead th {\n",
       "        text-align: right;\n",
       "    }\n",
       "</style>\n",
       "<table border=\"1\" class=\"dataframe\">\n",
       "  <thead>\n",
       "    <tr style=\"text-align: right;\">\n",
       "      <th></th>\n",
       "      <th>AMZN</th>\n",
       "      <th>XOM</th>\n",
       "    </tr>\n",
       "    <tr>\n",
       "      <th>Date</th>\n",
       "      <th></th>\n",
       "      <th></th>\n",
       "    </tr>\n",
       "  </thead>\n",
       "  <tbody>\n",
       "    <tr>\n",
       "      <td>2017-04-30</td>\n",
       "      <td>884.489990</td>\n",
       "      <td>80.300003</td>\n",
       "    </tr>\n",
       "    <tr>\n",
       "      <td>2017-05-31</td>\n",
       "      <td>927.799988</td>\n",
       "      <td>80.470001</td>\n",
       "    </tr>\n",
       "    <tr>\n",
       "      <td>2017-06-30</td>\n",
       "      <td>927.000000</td>\n",
       "      <td>79.260002</td>\n",
       "    </tr>\n",
       "    <tr>\n",
       "      <td>2017-07-31</td>\n",
       "      <td>951.000000</td>\n",
       "      <td>78.269997</td>\n",
       "    </tr>\n",
       "    <tr>\n",
       "      <td>2017-08-31</td>\n",
       "      <td>936.330017</td>\n",
       "      <td>76.050003</td>\n",
       "    </tr>\n",
       "    <tr>\n",
       "      <td>2017-09-30</td>\n",
       "      <td>931.750000</td>\n",
       "      <td>76.320000</td>\n",
       "    </tr>\n",
       "    <tr>\n",
       "      <td>2017-10-31</td>\n",
       "      <td>950.369995</td>\n",
       "      <td>81.250000</td>\n",
       "    </tr>\n",
       "    <tr>\n",
       "      <td>2017-11-30</td>\n",
       "      <td>1086.869995</td>\n",
       "      <td>80.010002</td>\n",
       "    </tr>\n",
       "    <tr>\n",
       "      <td>2017-12-31</td>\n",
       "      <td>1124.739990</td>\n",
       "      <td>82.169998</td>\n",
       "    </tr>\n",
       "    <tr>\n",
       "      <td>2018-01-31</td>\n",
       "      <td>1170.510010</td>\n",
       "      <td>83.660004</td>\n",
       "    </tr>\n",
       "  </tbody>\n",
       "</table>\n",
       "</div>"
      ],
      "text/plain": [
       "                   AMZN        XOM\n",
       "Date                              \n",
       "2017-04-30   884.489990  80.300003\n",
       "2017-05-31   927.799988  80.470001\n",
       "2017-06-30   927.000000  79.260002\n",
       "2017-07-31   951.000000  78.269997\n",
       "2017-08-31   936.330017  76.050003\n",
       "2017-09-30   931.750000  76.320000\n",
       "2017-10-31   950.369995  81.250000\n",
       "2017-11-30  1086.869995  80.010002\n",
       "2017-12-31  1124.739990  82.169998\n",
       "2018-01-31  1170.510010  83.660004"
      ]
     },
     "execution_count": 5,
     "metadata": {},
     "output_type": "execute_result"
    }
   ],
   "source": [
    "data['Low'].resample('M').min()[:10]"
   ]
  },
  {
   "cell_type": "code",
   "execution_count": 6,
   "metadata": {},
   "outputs": [
    {
     "data": {
      "text/html": [
       "<div>\n",
       "<style scoped>\n",
       "    .dataframe tbody tr th:only-of-type {\n",
       "        vertical-align: middle;\n",
       "    }\n",
       "\n",
       "    .dataframe tbody tr th {\n",
       "        vertical-align: top;\n",
       "    }\n",
       "\n",
       "    .dataframe thead th {\n",
       "        text-align: right;\n",
       "    }\n",
       "</style>\n",
       "<table border=\"1\" class=\"dataframe\">\n",
       "  <thead>\n",
       "    <tr style=\"text-align: right;\">\n",
       "      <th></th>\n",
       "      <th>AMZN</th>\n",
       "      <th>XOM</th>\n",
       "    </tr>\n",
       "    <tr>\n",
       "      <th>Date</th>\n",
       "      <th></th>\n",
       "      <th></th>\n",
       "    </tr>\n",
       "  </thead>\n",
       "  <tbody>\n",
       "    <tr>\n",
       "      <td>2017-04-30</td>\n",
       "      <td>888.000000</td>\n",
       "      <td>82.019997</td>\n",
       "    </tr>\n",
       "    <tr>\n",
       "      <td>2017-05-31</td>\n",
       "      <td>927.799988</td>\n",
       "      <td>81.510002</td>\n",
       "    </tr>\n",
       "    <tr>\n",
       "      <td>2017-06-30</td>\n",
       "      <td>998.590027</td>\n",
       "      <td>80.370003</td>\n",
       "    </tr>\n",
       "    <tr>\n",
       "      <td>2017-07-31</td>\n",
       "      <td>972.789978</td>\n",
       "      <td>80.790001</td>\n",
       "    </tr>\n",
       "    <tr>\n",
       "      <td>2017-08-31</td>\n",
       "      <td>996.109985</td>\n",
       "      <td>80.160004</td>\n",
       "    </tr>\n",
       "    <tr>\n",
       "      <td>2017-09-30</td>\n",
       "      <td>984.200012</td>\n",
       "      <td>76.370003</td>\n",
       "    </tr>\n",
       "    <tr>\n",
       "      <td>2017-10-31</td>\n",
       "      <td>964.000000</td>\n",
       "      <td>81.300003</td>\n",
       "    </tr>\n",
       "    <tr>\n",
       "      <td>2017-11-30</td>\n",
       "      <td>1105.400024</td>\n",
       "      <td>83.389999</td>\n",
       "    </tr>\n",
       "    <tr>\n",
       "      <td>2017-12-31</td>\n",
       "      <td>1172.050049</td>\n",
       "      <td>83.440002</td>\n",
       "    </tr>\n",
       "    <tr>\n",
       "      <td>2018-01-31</td>\n",
       "      <td>1172.000000</td>\n",
       "      <td>83.820000</td>\n",
       "    </tr>\n",
       "  </tbody>\n",
       "</table>\n",
       "</div>"
      ],
      "text/plain": [
       "                   AMZN        XOM\n",
       "Date                              \n",
       "2017-04-30   888.000000  82.019997\n",
       "2017-05-31   927.799988  81.510002\n",
       "2017-06-30   998.590027  80.370003\n",
       "2017-07-31   972.789978  80.790001\n",
       "2017-08-31   996.109985  80.160004\n",
       "2017-09-30   984.200012  76.370003\n",
       "2017-10-31   964.000000  81.300003\n",
       "2017-11-30  1105.400024  83.389999\n",
       "2017-12-31  1172.050049  83.440002\n",
       "2018-01-31  1172.000000  83.820000"
      ]
     },
     "execution_count": 6,
     "metadata": {},
     "output_type": "execute_result"
    }
   ],
   "source": [
    "data['Open'].resample('M').first()[:10]"
   ]
  },
  {
   "cell_type": "markdown",
   "metadata": {},
   "source": [
    "Use ErrorBar() plotting function to plot a *candlestick* chart for one or both of the above stocks"
   ]
  },
  {
   "cell_type": "code",
   "execution_count": 7,
   "metadata": {},
   "outputs": [],
   "source": [
    "import pandas as pd\n",
    "AMZN=data.stack(0).unstack()['AMZN'][:30] #draw candlesticks for the first 30 days\n",
    "XOM=data.stack(0).unstack()['XOM'][:30]\n",
    "m=(AMZN.Close+AMZN.Open)*0.5\n",
    "o_c=pd.merge(AMZN['Open'],AMZN['Adj Close'],left_index=True,right_index=True)\n",
    "above = o_c.apply(max,axis=1)\n",
    "below = o_c.apply(min, axis=1)\n",
    "w1=AMZN.High-m\n",
    "w2=m-AMZN.Low\n",
    "h=above-m\n",
    "yr=[h[i] if AMZN.Close[i]<AMZN.Open[i] else 0 for i in range(len(AMZN.Close))]\n",
    "yg=[h[i] if AMZN.Close[i]>AMZN.Open[i] else 0 for i in range(len(AMZN.Close))]"
   ]
  },
  {
   "cell_type": "code",
   "execution_count": 9,
   "metadata": {
    "scrolled": false
   },
   "outputs": [
    {
     "data": {
      "text/plain": [
       "<ErrorbarContainer object of 3 artists>"
      ]
     },
     "execution_count": 9,
     "metadata": {},
     "output_type": "execute_result"
    },
    {
     "data": {
      "image/png": "[encoded data removed]",
      "text/plain": [
       "<Figure size 1080x720 with 1 Axes>"
      ]
     },
     "metadata": {
      "needs_background": "light"
     },
     "output_type": "display_data"
    }
   ],
   "source": [
    "%matplotlib inline\n",
    "import matplotlib.pyplot as plt\n",
    "from pandas.plotting import register_matplotlib_converters\n",
    "register_matplotlib_converters()\n",
    "\n",
    "fig = plt.figure(figsize=(15,10))\n",
    "plt.errorbar(AMZN.index,m,yerr=[w2,w1],linewidth=2,fmt='_',color='k',markeredgecolor='k',markersize=2)\n",
    "plt.errorbar(AMZN.index,m,yerr=yr,linewidth=15,fmt=' ',color='r',markeredgecolor='k',markersize=15)\n",
    "plt.errorbar(AMZN.index,m,yerr=yg,linewidth=15,fmt=' ',color='g',markeredgecolor='k',markersize=15)\n"
   ]
  },
  {
   "cell_type": "markdown",
   "metadata": {},
   "source": [
    "**Bonus** Write a Python Function that takes a time-series of [Open,Hi,Lo,Close] and returns its candlestick plot in (figure,axes) object "
   ]
  },
  {
   "cell_type": "code",
   "execution_count": 10,
   "metadata": {},
   "outputs": [],
   "source": [
    "def Candlestick(df): \n",
    "    for index, row in df.iterrows():   \n",
    "        if (row['Open']<row['Adj Close']):\n",
    "            plt.errorbar(index,0.5*(row['Open']+row['Adj Close']) , [[0.5*(row['Open']+row['Adj Close'])-row['Open']],[row['Adj Close']-0.5*(row['Open']+row['Adj Close'])]], elinewidth=6,ecolor='green',linewidth=0)\n",
    "            plt.errorbar(index, 0.5*(row['Open']+row['Adj Close']), [[0.5*(row['Open']+row['Adj Close'])-row['Low']],[row['High'] -0.5*(row['Open']+row['Adj Close'])]], ecolor='green', linewidth=0,elinewidth=1)\n",
    "        elif (row['Open']>row['Adj Close']) :\n",
    "            plt.errorbar(index,0.5*(row['Open']+row['Adj Close']),[[0.5*(row['Open']+row['Adj Close'])-row['Adj Close']],[row['Open']-0.5*(row['Open']+row['Adj Close'])]], elinewidth=6,ecolor='red',linewidth=0)\n",
    "            plt.errorbar(index,0.5*(row['Open']+row['Adj Close']), [[0.5*(row['Open']+row['Adj Close'])-row['Low']],[row['High'] -0.5*(row['Open']+row['Adj Close'])]], ecolor='red', linewidth=0,elinewidth=1)\n",
    "    plt.xticks(rotation=90)"
   ]
  },
  {
   "cell_type": "code",
   "execution_count": 11,
   "metadata": {},
   "outputs": [
    {
     "data": {
      "image/png": "[encoded data removed]",
      "text/plain": [
       "<Figure size 432x288 with 1 Axes>"
      ]
     },
     "metadata": {
      "needs_background": "light"
     },
     "output_type": "display_data"
    }
   ],
   "source": [
    "\n",
    "Candlestick(AMZN)"
   ]
  },
  {
   "cell_type": "markdown",
   "metadata": {},
   "source": [
    "### Part II "
   ]
  },
  {
   "cell_type": "markdown",
   "metadata": {},
   "source": [
    "Generate the daily return time series for each stock. Make sure the two time series are **synchronous**."
   ]
  },
  {
   "cell_type": "code",
   "execution_count": 12,
   "metadata": {
    "scrolled": true
   },
   "outputs": [
    {
     "data": {
      "text/plain": [
       "Date\n",
       "2017-04-04    0.017184\n",
       "2017-04-05    0.002702\n",
       "2017-04-06   -0.012097\n",
       "2017-04-07   -0.003785\n",
       "2017-04-10    0.013588\n",
       "2017-04-11   -0.005160\n",
       "2017-04-12   -0.006793\n",
       "2017-04-13   -0.012898\n",
       "2017-04-17    0.019578\n",
       "2017-04-18    0.001985\n",
       "dtype: float64"
      ]
     },
     "execution_count": 12,
     "metadata": {},
     "output_type": "execute_result"
    }
   ],
   "source": [
    "AMZN=data.stack(0).unstack()['AMZN']\n",
    "XOM=data.stack(0).unstack()['XOM']\n",
    "r0=list(AMZN['Adj Close'][:-1])\n",
    "r1=list(AMZN['Adj Close'][1:])\n",
    "AMZN_ret=[x/y-1 for x,y in zip(r1,r0)]\n",
    "AMZN_ret=pd.Series(AMZN_ret,index=AMZN.index[1:]);AMZN_ret[:10]"
   ]
  },
  {
   "cell_type": "code",
   "execution_count": 14,
   "metadata": {},
   "outputs": [
    {
     "data": {
      "text/plain": [
       "Date\n",
       "2017-04-04    0.003655\n",
       "2017-04-05    0.001943\n",
       "2017-04-06    0.005816\n",
       "2017-04-07   -0.003012\n",
       "2017-04-10    0.004471\n",
       "2017-04-11   -0.003489\n",
       "2017-04-12    0.001569\n",
       "2017-04-13   -0.015427\n",
       "2017-04-17   -0.001347\n",
       "2017-04-18   -0.006497\n",
       "dtype: float64"
      ]
     },
     "execution_count": 14,
     "metadata": {},
     "output_type": "execute_result"
    }
   ],
   "source": [
    "r0=list(XOM['Adj Close'][:-1])\n",
    "r1=list(XOM['Adj Close'][1:])\n",
    "XOM_ret=[x/y-1 for x,y in zip(r1,r0)]\n",
    "XOM_ret=pd.Series(XOM_ret,index=XOM.index[1:]);XOM_ret[:10]"
   ]
  },
  {
   "cell_type": "markdown",
   "metadata": {},
   "source": [
    "Use scatter plot to plot daily return of AMZN against that of XOM"
   ]
  },
  {
   "cell_type": "code",
   "execution_count": 15,
   "metadata": {},
   "outputs": [
    {
     "data": {
      "text/plain": [
       "<matplotlib.collections.PathCollection at 0x1180fcf50>"
      ]
     },
     "execution_count": 15,
     "metadata": {},
     "output_type": "execute_result"
    },
    {
     "data": {
      "image/png": "[encoded data removed]",
      "text/plain": [
       "<Figure size 1080x720 with 1 Axes>"
      ]
     },
     "metadata": {
      "needs_background": "light"
     },
     "output_type": "display_data"
    }
   ],
   "source": [
    "plt.figure(figsize=(15,10))\n",
    "plt.scatter(AMZN_ret,XOM_ret)"
   ]
  },
  {
   "cell_type": "markdown",
   "metadata": {},
   "source": [
    "Calculate the return correlation between them "
   ]
  },
  {
   "cell_type": "code",
   "execution_count": 16,
   "metadata": {},
   "outputs": [
    {
     "data": {
      "text/plain": [
       "0.3234214675182049"
      ]
     },
     "execution_count": 16,
     "metadata": {},
     "output_type": "execute_result"
    }
   ],
   "source": [
    "AMZN_ret.corr(XOM_ret)"
   ]
  },
  {
   "cell_type": "markdown",
   "metadata": {},
   "source": [
    "Use least-squares method to find the regression coefficients $\\beta, a$: $r_{AMZN} = \\beta r_{XOM} + a$\n"
   ]
  },
  {
   "cell_type": "code",
   "execution_count": 18,
   "metadata": {},
   "outputs": [
    {
     "name": "stdout",
     "output_type": "stream",
     "text": [
      "0.0014655357196115993 0.5641927930833663\n"
     ]
    }
   ],
   "source": [
    "import numpy as np\n",
    "A=np.vstack([XOM_ret,np.ones(len(XOM_ret))]).T\n",
    "b,a=np.linalg.lstsq(A,AMZN_ret,rcond=None)[0]\n",
    "print(a,b)\n"
   ]
  },
  {
   "cell_type": "markdown",
   "metadata": {},
   "source": [
    "Compute the residual return series of AMZN"
   ]
  },
  {
   "cell_type": "code",
   "execution_count": 19,
   "metadata": {},
   "outputs": [
    {
     "data": {
      "text/plain": [
       "Date\n",
       "2017-04-04   -0.006024\n",
       "2017-04-05    0.000288\n",
       "2017-04-06    0.006738\n",
       "2017-04-07    0.003115\n",
       "2017-04-10   -0.004456\n",
       "2017-04-11    0.003714\n",
       "2017-04-12    0.004426\n",
       "2017-04-13    0.007087\n",
       "2017-04-17   -0.007067\n",
       "2017-04-18    0.000601\n",
       "dtype: float64"
      ]
     },
     "execution_count": 19,
     "metadata": {},
     "output_type": "execute_result"
    }
   ],
   "source": [
    "AMZN_ret_hat=a+b*AMZN_ret\n",
    "residual=AMZN_ret_hat-AMZN_ret; residual[:10]"
   ]
  },
  {
   "cell_type": "markdown",
   "metadata": {},
   "source": [
    "Do a histrogram plot of the residual returns of AMZN"
   ]
  },
  {
   "cell_type": "code",
   "execution_count": 20,
   "metadata": {},
   "outputs": [
    {
     "data": {
      "image/png": "[encoded data removed]",
      "text/plain": [
       "<Figure size 1080x360 with 1 Axes>"
      ]
     },
     "metadata": {
      "needs_background": "light"
     },
     "output_type": "display_data"
    }
   ],
   "source": [
    "plt.figure(figsize=(15,5))\n",
    "plt.hist(residual,bins=100);"
   ]
  },
  {
   "cell_type": "markdown",
   "metadata": {},
   "source": [
    "Calculate the (mean, std) of the residual returns of AMZN. These parameters will tell you the normal distribution density function to use to fit the residual distribution"
   ]
  },
  {
   "cell_type": "code",
   "execution_count": 21,
   "metadata": {},
   "outputs": [
    {
     "data": {
      "text/plain": [
       "(0.0007798346169789324, 0.008498690626687766)"
      ]
     },
     "execution_count": 21,
     "metadata": {},
     "output_type": "execute_result"
    }
   ],
   "source": [
    "m,std=residual.mean(),residual.std()\n",
    "(m,std)"
   ]
  },
  {
   "cell_type": "markdown",
   "metadata": {},
   "source": [
    "Plot the \"theoretical\" normal density distribution curve together with the historgram (set option density=True). How \"normal\" is the residual distribution?"
   ]
  },
  {
   "cell_type": "code",
   "execution_count": 22,
   "metadata": {},
   "outputs": [
    {
     "data": {
      "text/plain": [
       "[<matplotlib.lines.Line2D at 0x117fe7bd0>]"
      ]
     },
     "execution_count": 22,
     "metadata": {},
     "output_type": "execute_result"
    },
    {
     "data": {
      "image/png": "[encoded data removed]",
      "text/plain": [
       "<Figure size 1080x360 with 1 Axes>"
      ]
     },
     "metadata": {
      "needs_background": "light"
     },
     "output_type": "display_data"
    }
   ],
   "source": [
    "from scipy.stats import norm\n",
    "x=np.linspace(residual.min(),residual.max(),100)\n",
    "plt.figure(figsize=(15,5))\n",
    "plt.hist(residual,bins=100,density=True);\n",
    "plt.plot(x,norm.pdf(x,m,std))"
   ]
  },
  {
   "cell_type": "code",
   "execution_count": null,
   "metadata": {},
   "outputs": [],
   "source": []
  }
 ],
 "metadata": {
  "kernelspec": {
   "display_name": "Python 3",
   "language": "python",
   "name": "python3"
  },
  "language_info": {
   "codemirror_mode": {
    "name": "ipython",
    "version": 3
   },
   "file_extension": ".py",
   "mimetype": "text/x-python",
   "name": "python",
   "nbconvert_exporter": "python",
   "pygments_lexer": "ipython3",
   "version": "3.7.4"
  }
 },
 "nbformat": 4,
 "nbformat_minor": 2
}
