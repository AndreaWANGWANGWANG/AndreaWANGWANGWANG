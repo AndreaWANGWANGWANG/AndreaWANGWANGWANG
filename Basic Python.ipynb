{
  "cells" : [
    {
      "cell_type" : "markdown",
      "source" : [
        "1.Write a python program to remove duplicated elements from a list while preserving the order of the original elements.\n",
        "\n",
        "sample list: [1,3,6,4,1,3,5,4] -> [1,3,6,4,5]\n"
      ],
      "metadata" : {
        "slideshow" : {
          "slide_type" : "slide"
        }
      }
    },
    {
      "metadata" : {

      },
      "source" : [
        "l = [1,3,6,4,1,3,5,4]\n",
        "sorted(set(l), key = lambda x: l.index(x))"
      ],
      "cell_type" : "code",
      "execution_count" : 27,
      "outputs" : [
        {
          "metadata" : {

          },
          "data" : {
            "text\/plain" : [
              "[1, 3, 6, 4, 5]"
            ]
          },
          "output_type" : "execute_result",
          "execution_count" : 27
        }
      ]
    },
    {
      "cell_type" : "markdown",
      "source" : [
        "2.Write a python program to return a list of two lists: (1) a list of all the vowels, (2) a unique list of consonants (for this part, you may want to use the function you wrote in question 1 above), of a given text.\n",
        "\n",
        "sample text: \"Hello, world!\"\n"
      ],
      "metadata" : {
        "slideshow" : {
          "slide_type" : "slide"
        }
      }
    },
    {
      "metadata" : {

      },
      "source" : [
        "def f(s):\n",
        "    v=list()\n",
        "    c=set()\n",
        "    s=s.lower()\n",
        "    for i in s:\n",
        "        if i in ['a','e','i','o','u']:\n",
        "            v.append(i)\n",
        "        elif ord(i)>ord('a') and ord(i)<=ord('z'):\n",
        "            c.add(i)\n",
        "    return [v,c]"
      ],
      "cell_type" : "code",
      "execution_count" : 28,
      "outputs" : [

      ]
    },
    {
      "metadata" : {

      },
      "source" : [
        "re=f(\"Hello, world!\")\n",
        "print(re)"
      ],
      "cell_type" : "code",
      "execution_count" : 29,
      "outputs" : [
        {
          "name" : "stdout",
          "text" : [
            "[['e', 'o', 'o'], {'r', 'd', 'l', 'w', 'h'}]\n"
          ],
          "output_type" : "stream"
        }
      ]
    },
    {
      "metadata" : {

      },
      "source" : [
        "test='Hello, world!'\n",
        "results=[[],[]]\n",
        "temp=test.lower()\n",
        "cons=[]\n",
        "for i in range(len(test)):\n",
        "    if temp[i] in 'aeiou':\n",
        "         results[0].append(test[i])\n",
        "    elif temp[i].isalpha():\n",
        "        cons.append(test[i])\n",
        "    results[1]=sorted(set(cons), key=cons.index)\n",
        "results\n"
      ],
      "cell_type" : "code",
      "execution_count" : 30,
      "outputs" : [
        {
          "metadata" : {

          },
          "data" : {
            "text\/plain" : [
              "[['e', 'o', 'o'], ['H', 'l', 'w', 'r', 'd']]"
            ]
          },
          "output_type" : "execute_result",
          "execution_count" : 30
        }
      ]
    },
    {
      "cell_type" : "markdown",
      "source" : [
        "3.Write a python program to turn first 4 characters of a string into lowercases.\n",
        "\n",
        "sample string:'HI,JOHN. Welcome!'\n"
      ],
      "metadata" : {
        "slideshow" : {
          "slide_type" : "slide"
        }
      }
    },
    {
      "metadata" : {

      },
      "source" : [
        "def f(s):\n",
        "    count=0\n",
        "    result=''\n",
        "    for i in s:\n",
        "        if count<4 and i.isalpha()==True:\n",
        "            result=result + i.lower()\n",
        "            count +=1\n",
        "        else:\n",
        "            result=result + i\n",
        "    return result"
      ],
      "cell_type" : "code",
      "execution_count" : 31,
      "outputs" : [

      ]
    },
    {
      "metadata" : {

      },
      "source" : [
        "f('HI,JOHN. Welcome!')"
      ],
      "cell_type" : "code",
      "execution_count" : 32,
      "outputs" : [
        {
          "metadata" : {

          },
          "data" : {
            "text\/plain" : [
              "'hi,joHN. Welcome!'"
            ]
          },
          "output_type" : "execute_result",
          "execution_count" : 32
        }
      ]
    },
    {
      "cell_type" : "markdown",
      "source" : [
        "4.Write a python program to turn a date string from ‘YYYY-MM-DD’ format to ‘YYYY\/MM\/DD’\n",
        "\n",
        "sample date: '2018-01-19'\n"
      ],
      "metadata" : {
        "collapsed" : true,
        "slideshow" : {
          "slide_type" : "slide"
        }
      }
    },
    {
      "metadata" : {

      },
      "source" : [
        "def f(s):\n",
        "    l=s.split('-')\n",
        "    return '\/'.join(l)\n",
        "\n",
        "f('2018-01-19')"
      ],
      "cell_type" : "code",
      "execution_count" : 33,
      "outputs" : [
        {
          "metadata" : {

          },
          "data" : {
            "text\/plain" : [
              "'2018\/01\/19'"
            ]
          },
          "output_type" : "execute_result",
          "execution_count" : 33
        }
      ]
    },
    {
      "metadata" : {

      },
      "source" : [
        "date='2018-01-19'\n",
        "ymd=date.split('-')\n",
        "'{}\/{}\/{}'.format(ymd[0],ymd[1],ymd[2])"
      ],
      "cell_type" : "code",
      "execution_count" : 34,
      "outputs" : [
        {
          "metadata" : {

          },
          "data" : {
            "text\/plain" : [
              "'2018\/01\/19'"
            ]
          },
          "output_type" : "execute_result",
          "execution_count" : 34
        }
      ]
    },
    {
      "cell_type" : "markdown",
      "source" : [
        "5.Write a python function that removes the 4th index character from a given string.\n",
        "\n",
        "sample string: 'this is a test string'\n"
      ],
      "metadata" : {
        "slideshow" : {
          "slide_type" : "slide"
        }
      }
    },
    {
      "metadata" : {

      },
      "source" : [
        "def f(s):\n",
        "    l=list(s)\n",
        "    l[3]=''\n",
        "    s=''.join(l)\n",
        "    return s\n",
        "print(f('this is a test string'))"
      ],
      "cell_type" : "code",
      "execution_count" : 35,
      "outputs" : [
        {
          "name" : "stdout",
          "text" : [
            "thi is a test string\n"
          ],
          "output_type" : "stream"
        }
      ]
    },
    {
      "cell_type" : "markdown",
      "source" : [
        "6.Write a function that takes two variable x and y, and print out the addition equation.\n",
        "\n",
        "sample: x=20, y=34. The function should print out 20+34=54 \n"
      ],
      "metadata" : {
        "slideshow" : {
          "slide_type" : "slide"
        }
      }
    },
    {
      "metadata" : {

      },
      "source" : [
        "def add(x, y):\n",
        "    print(x,'+',y,'=',x+y)\n",
        "add(20, 34)"
      ],
      "cell_type" : "code",
      "execution_count" : 36,
      "outputs" : [
        {
          "name" : "stdout",
          "text" : [
            "20 + 34 = 54\n"
          ],
          "output_type" : "stream"
        }
      ]
    },
    {
      "cell_type" : "markdown",
      "source" : [
        "7.Write a python function to replace a given list of numbers by its running sum. \n",
        "\n",
        "sample list: [1,2,3,4] becomes [1,3,6,10]  \n"
      ],
      "metadata" : {
        "slideshow" : {
          "slide_type" : "slide"
        }
      }
    },
    {
      "metadata" : {

      },
      "source" : [
        "def rpl(l):\n",
        "    sum = 0\n",
        "    for i in range(len(l)):\n",
        "        sum += l[i]\n",
        "        l[i] = sum\n",
        "    return l\n",
        "test = [1,2,3,4]\n",
        "rpl(test)"
      ],
      "cell_type" : "code",
      "execution_count" : 37,
      "outputs" : [
        {
          "metadata" : {

          },
          "data" : {
            "text\/plain" : [
              "[1, 3, 6, 10]"
            ]
          },
          "output_type" : "execute_result",
          "execution_count" : 37
        }
      ]
    },
    {
      "cell_type" : "markdown",
      "source" : [
        "8.Use list comprehesion to generate a list from removing all the even numbers in a given list of numbers.\n",
        "\n",
        "sample list:[8,3,5,2,2,6,7,0,11,15]\n"
      ],
      "metadata" : {
        "slideshow" : {
          "slide_type" : "slide"
        }
      }
    },
    {
      "metadata" : {

      },
      "source" : [
        "test=[8,3,5,2,2,6,7,0,11,15]\n",
        "[i for i in test if i%2!=0]"
      ],
      "cell_type" : "code",
      "execution_count" : 38,
      "outputs" : [
        {
          "metadata" : {

          },
          "data" : {
            "text\/plain" : [
              "[3, 5, 7, 11, 15]"
            ]
          },
          "output_type" : "execute_result",
          "execution_count" : 38
        }
      ]
    },
    {
      "cell_type" : "markdown",
      "source" : [
        "9.Write a python program to get the index of an item in a given list. \n",
        "\n",
        "sample list: [20,18,45,89,23,345,890], get the index for element 89\n"
      ],
      "metadata" : {
        "slideshow" : {
          "slide_type" : "slide"
        }
      }
    },
    {
      "metadata" : {

      },
      "source" : [
        "test = [20,18,45,89,23,345,890]\n",
        "test.index(89)"
      ],
      "cell_type" : "code",
      "execution_count" : 39,
      "outputs" : [
        {
          "metadata" : {

          },
          "data" : {
            "text\/plain" : [
              "3"
            ]
          },
          "output_type" : "execute_result",
          "execution_count" : 39
        }
      ]
    },
    {
      "cell_type" : "markdown",
      "source" : [
        "10.Write a Python program to print all unique values in the dictionary:\n",
        "\n",
        "{'a': 8, 'b': 10, 'c': 9, 'd': 10, 'e': 8, 'f': 6} "
      ],
      "metadata" : {
        "slideshow" : {
          "slide_type" : "slide"
        }
      }
    },
    {
      "metadata" : {

      },
      "source" : [
        "test={'a': 8, 'b': 10, 'c': 9, 'd': 10, 'e': 8, 'f': 6}\n",
        "print(set(v for v in test.values()))"
      ],
      "cell_type" : "code",
      "execution_count" : 40,
      "outputs" : [
        {
          "name" : "stdout",
          "text" : [
            "{8, 9, 10, 6}\n"
          ],
          "output_type" : "stream"
        }
      ]
    },
    {
      "cell_type" : "markdown",
      "source" : [
        "11.sort the following list of tuples by decending price order:\n",
        "\n",
        "prices = [('item1', '12.6'), ('item2', '3.15'), ('item3', '9.95')]"
      ],
      "metadata" : {
        "slideshow" : {
          "slide_type" : "slide"
        }
      }
    },
    {
      "metadata" : {

      },
      "source" : [
        "prices = [('item1', '12.6'), ('item2', '3.15'), ('item3', '9.95')]\n",
        "sorted(prices, key = lambda x: float(x[1]),reverse = True)"
      ],
      "cell_type" : "code",
      "execution_count" : 43,
      "outputs" : [
        {
          "metadata" : {

          },
          "data" : {
            "text\/plain" : [
              "[('item1', '12.6'), ('item3', '9.95'), ('item2', '3.15')]"
            ]
          },
          "output_type" : "execute_result",
          "execution_count" : 43
        }
      ]
    },
    {
      "cell_type" : "markdown",
      "source" : [
        "12.Write a program to print out the keys in common between these two dictionaries:\n",
        "\n",
        "dict1 =  {1: 'd', 4: 'o', 7: 'u', 10: 'a', 13: 'r'}\n",
        "dict2 =  {2: 'm', 4: 'a', 6: 'p', 8: 'e', 10: 'r'}"
      ],
      "metadata" : {
        "slideshow" : {
          "slide_type" : "slide"
        }
      }
    },
    {
      "metadata" : {

      },
      "source" : [
        "dict1 = {1: 'd', 4: 'o', 7: 'u', 10: 'a', 13: 'r'} \n",
        "dict2 = {2: 'm', 4: 'a', 6: 'p', 8: 'e', 10: 'r'}\n",
        "set(dict1.keys()).intersection(set(dict2.keys()))"
      ],
      "cell_type" : "code",
      "execution_count" : 44,
      "outputs" : [
        {
          "metadata" : {

          },
          "data" : {
            "text\/plain" : [
              "{4, 10}"
            ]
          },
          "output_type" : "execute_result",
          "execution_count" : 44
        }
      ]
    },
    {
      "cell_type" : "markdown",
      "source" : [
        "13.Write a program to check if the previous dictionaries, dict1 and dict2, contains the following set of keys respectively: {4,6,10} "
      ],
      "metadata" : {

      }
    },
    {
      "metadata" : {

      },
      "source" : [
        "def check(d):\n",
        "    contain=True\n",
        "    for i in {4,6,10}:\n",
        "        if not i in set(d.keys()):\n",
        "            contain=False\n",
        "            break\n",
        "    return contain\n",
        "[check(dict1),check(dict2)]"
      ],
      "cell_type" : "code",
      "execution_count" : 45,
      "outputs" : [
        {
          "metadata" : {

          },
          "data" : {
            "text\/plain" : [
              "[False, True]"
            ]
          },
          "output_type" : "execute_result",
          "execution_count" : 45
        }
      ]
    },
    {
      "cell_type" : "markdown",
      "source" : [
        "14.Write a program to check if the following set of keys are found in either of dict1 and dict2: {1,4,12}"
      ],
      "metadata" : {

      }
    },
    {
      "metadata" : {

      },
      "source" : [
        "in1or2 = True\n",
        "for i in {1,4,12}:\n",
        "    if not i in set(dict1.keys()).union(set(dict2.keys())):\n",
        "        in1or2 = False\n",
        "        break\n",
        "in1or2\n"
      ],
      "cell_type" : "code",
      "execution_count" : 18,
      "outputs" : [
        {
          "metadata" : {

          },
          "data" : {
            "text\/plain" : [
              "False"
            ]
          },
          "output_type" : "execute_result",
          "execution_count" : 18
        }
      ]
    },
    {
      "cell_type" : "markdown",
      "source" : [
        "15.Write a program to get the set of keys that are present in dict1 but not in dict2"
      ],
      "metadata" : {

      }
    },
    {
      "metadata" : {

      },
      "source" : [
        "in1not2=[]\n",
        "for i in dict1.keys():\n",
        "    if not i in dict2.keys():\n",
        "        in1not2.append(i)\n",
        "in1not2"
      ],
      "cell_type" : "code",
      "execution_count" : 46,
      "outputs" : [
        {
          "metadata" : {

          },
          "data" : {
            "text\/plain" : [
              "[1, 7, 13]"
            ]
          },
          "output_type" : "execute_result",
          "execution_count" : 46
        }
      ]
    },
    {
      "cell_type" : "markdown",
      "source" : [
        "16.Write a program to obtain the matching key-value pairs in the following two dictionaries: \n",
        "\n",
        "dc1 = {'k1':10, 'k2':20, 'k3':30, 'k4':40}\n",
        "dc2 = {'k1':10, 'k2':40, 'k3':30, 'k4':80}"
      ],
      "metadata" : {

      }
    },
    {
      "metadata" : {

      },
      "source" : [
        "dc1 = {'k1':10, 'k2':20, 'k3':30, 'k4':40} \n",
        "dc2 = {'k1':10, 'k2':40, 'k3':30, 'k4':80}\n",
        "common=[]\n",
        "for i in dc1.items():\n",
        "    if i in dc2.items():\n",
        "        common.append(i)\n",
        "common"
      ],
      "cell_type" : "code",
      "execution_count" : 47,
      "outputs" : [
        {
          "metadata" : {

          },
          "data" : {
            "text\/plain" : [
              "[('k1', 10), ('k3', 30)]"
            ]
          },
          "output_type" : "execute_result",
          "execution_count" : 47
        }
      ]
    },
    {
      "cell_type" : "markdown",
      "source" : [
        "17.Use list comprehension to generate the list {n|n∈[−10,10]}\n"
      ],
      "metadata" : {

      }
    },
    {
      "metadata" : {

      },
      "source" : [
        "x=[i for i in range(-10,11)];x"
      ],
      "cell_type" : "code",
      "execution_count" : 48,
      "outputs" : [
        {
          "metadata" : {

          },
          "data" : {
            "text\/plain" : [
              "[-10, -9, -8, -7, -6, -5, -4, -3, -2, -1, 0, 1, 2, 3, 4, 5, 6, 7, 8, 9, 10]"
            ]
          },
          "output_type" : "execute_result",
          "execution_count" : 48
        }
      ]
    },
    {
      "cell_type" : "markdown",
      "source" : [
        "18.Generate another list from the list in Q9 by mapping with function: \n",
        "$f(x) =(x^2-25)(x^2-9x+16)$ "
      ],
      "metadata" : {

      }
    },
    {
      "metadata" : {

      },
      "source" : [
        "def f(x):\n",
        "    return (x**2-25)*(x**2-9*x+16)    \n",
        "list(map(f,x))"
      ],
      "cell_type" : "code",
      "execution_count" : 52,
      "outputs" : [
        {
          "metadata" : {

          },
          "data" : {
            "text\/plain" : [
              "[15450,\n",
              " 9968,\n",
              " 5928,\n",
              " 3072,\n",
              " 1166,\n",
              " 0,\n",
              " -612,\n",
              " -832,\n",
              " -798,\n",
              " -624,\n",
              " -400,\n",
              " -192,\n",
              " -42,\n",
              " 32,\n",
              " 36,\n",
              " 0,\n",
              " -22,\n",
              " 48,\n",
              " 312,\n",
              " 896,\n",
              " 1950]"
            ]
          },
          "output_type" : "execute_result",
          "execution_count" : 52
        }
      ]
    },
    {
      "cell_type" : "markdown",
      "source" : [
        "19.Write a function to find the local minima and corresponding value in the list generated in previous question. Return the result as a dictionary with index as key and corresponding local minimum as value"
      ],
      "metadata" : {

      }
    },
    {
      "metadata" : {

      },
      "source" : [
        "d={}\n",
        "for i in range(len(y)):\n",
        "    if i==0:\n",
        "        if y[i]<y[i+1]:\n",
        "             d[x[i]]=y[i]\n",
        "    elif i==len(y)-1:\n",
        "        if y[i]<y[i-1]:\n",
        "            d[x[i]]=y[i]\n",
        "    elif y[i]<y[i+1] and y[i]<y[i-1]:\n",
        "        d[x[i]]=y[i]\n",
        "d"
      ],
      "cell_type" : "code",
      "execution_count" : 53,
      "outputs" : [
        {
          "metadata" : {

          },
          "data" : {
            "text\/plain" : [
              "{-3: -832, 6: -22}"
            ]
          },
          "output_type" : "execute_result",
          "execution_count" : 53
        }
      ]
    },
    {
      "cell_type" : "markdown",
      "source" : [
        "20.Write a program to sort the result in Question19 according to the minimum value in a decending order"
      ],
      "metadata" : {

      }
    },
    {
      "metadata" : {

      },
      "source" : [
        "sorted(d.items(), key=lambda x:x[1], reverse=True)"
      ],
      "cell_type" : "code",
      "execution_count" : 54,
      "outputs" : [
        {
          "metadata" : {

          },
          "data" : {
            "text\/plain" : [
              "[(6, -22), (-3, -832)]"
            ]
          },
          "output_type" : "execute_result",
          "execution_count" : 54
        }
      ]
    },
    {
      "cell_type" : "markdown",
      "source" : [
        "21.Use normalvariate() function in 'random' module to generate a list of 10000 random numbers with standard normal distribution. "
      ],
      "metadata" : {

      }
    },
    {
      "metadata" : {

      },
      "source" : [
        "import random\n",
        "random.seed(0)\n",
        "r=[random.normalvariate(0,1) for i in range(10000)]"
      ],
      "cell_type" : "code",
      "execution_count" : 55,
      "outputs" : [
        {
          "metadata" : {

          },
          "data" : {
            "text\/plain" : [
              ""
            ]
          },
          "output_type" : "execute_result",
          "execution_count" : 55
        }
      ]
    },
    {
      "cell_type" : "markdown",
      "source" : [
        "22.Sort and bin the random numbers generated in Question21 into 10 bins in [-2.5,2.5] interval (think histogram). Use dictionary for your results as following: keys are tuples (x_lower, x_upper) to indicate the bin boundaries, value associated with that key is the count of random numbers in that bin"
      ],
      "metadata" : {

      }
    },
    {
      "metadata" : {

      },
      "source" : [
        "import numpy as np\n",
        "a=np.linspace(-2.5,2.5, num=11)\n",
        "k=[]\n",
        "for i in range(len(a)-1):\n",
        "    k.append((a[i],a[i+1]))\n",
        "\n",
        "c=[0]*10\n",
        "for i in r:\n",
        "    for j in range(10):\n",
        "        if i>=k[j][0] and i<k[j][1]:\n",
        "            c[j]+=1\n",
        "            break\n",
        "his={}\n",
        "for i in range(10):\n",
        "    his[k[i]]=c[i]\n",
        "his"
      ],
      "cell_type" : "code",
      "execution_count" : 56,
      "outputs" : [
        {
          "metadata" : {

          },
          "data" : {
            "text\/plain" : [
              "{(-2.5, -2.0): 147,\n",
              " (-2.0, -1.5): 421,\n",
              " (-1.5, -1.0): 960,\n",
              " (-1.0, -0.5): 1423,\n",
              " (-0.5, 0.0): 1931,\n",
              " (0.0, 0.5): 1923,\n",
              " (0.5, 1.0): 1510,\n",
              " (1.0, 1.5): 929,\n",
              " (1.5, 2.0): 448,\n",
              " (2.0, 2.5): 186}"
            ]
          },
          "output_type" : "execute_result",
          "execution_count" : 56
        }
      ]
    }
  ],
  "nbformat" : 4,
  "nbformat_minor" : 2,
  "metadata" : {
    "language_info" : {
      "file_extension" : ".py",
      "codemirror_mode" : {
        "name" : "ipython",
        "version" : 3
      },
      "mimetype" : "text\/x-python",
      "pygments_lexer" : "ipython3",
      "version" : "3.7.4",
      "nbconvert_exporter" : "python",
      "name" : "python"
    },
    "kernelspec" : {
      "name" : "python3",
      "language" : "python",
      "display_name" : "Python 3"
    }
  }
}
